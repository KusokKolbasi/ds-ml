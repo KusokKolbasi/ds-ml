{
 "cells": [
  {
   "cell_type": "code",
   "execution_count": 233,
   "id": "5496107e",
   "metadata": {
    "_cell_guid": "b1076dfc-b9ad-4769-8c92-a6c4dae69d19",
    "_uuid": "8f2839f25d086af736a60e9eeb907d3b93b6e0e5",
    "execution": {
     "iopub.execute_input": "2021-12-15T12:56:41.813352Z",
     "iopub.status.busy": "2021-12-15T12:56:41.811729Z",
     "iopub.status.idle": "2021-12-15T12:56:41.826053Z",
     "shell.execute_reply": "2021-12-15T12:56:41.826580Z",
     "shell.execute_reply.started": "2021-12-15T12:56:15.050519Z"
    },
    "papermill": {
     "duration": 0.03124,
     "end_time": "2021-12-15T12:56:41.826904",
     "exception": false,
     "start_time": "2021-12-15T12:56:41.795664",
     "status": "completed"
    },
    "tags": []
   },
   "outputs": [],
   "source": [
    "# This Python 3 environment comes with many helpful analytics libraries installed\n",
    "# It is defined by the kaggle/python Docker image: https://github.com/kaggle/docker-python\n",
    "# For example, here's several helpful packages to load\n",
    "\n",
    "import numpy as np # linear algebra\n",
    "import pandas as pd # data processing, CSV file I/O (e.g. pd.read_csv)\n",
    "from sklearn import metrics\n",
    "from nltk.stem import WordNetLemmatizer\n",
    "from sklearn.feature_extraction.text import TfidfVectorizer\n",
    "from sklearn.linear_model import LogisticRegression\n",
    "\n",
    "# Input data files are available in the read-only \"../input/\" directory\n",
    "# For example, running this (by clicking run or pressing Shift+Enter) will list all files under the input directory\n",
    "\n",
    "import os\n",
    "for dirname, _, filenames in os.walk('/kaggle/input'):\n",
    "    for filename in filenames:\n",
    "        print(os.path.join(dirname, filename))\n",
    "\n",
    "# You can write up to 20GB to the current directory (/kaggle/working/) that gets preserved as output when you create a version using \"Save & Run All\" \n",
    "# You can also write temporary files to /kaggle/temp/, but they won't be saved outside of the current session"
   ]
  },
  {
   "cell_type": "code",
   "execution_count": 234,
   "id": "8678c815",
   "metadata": {
    "execution": {
     "iopub.execute_input": "2021-12-15T12:56:41.853169Z",
     "iopub.status.busy": "2021-12-15T12:56:41.852540Z",
     "iopub.status.idle": "2021-12-15T12:56:42.545984Z",
     "shell.execute_reply": "2021-12-15T12:56:42.546520Z",
     "shell.execute_reply.started": "2021-12-15T12:56:15.061853Z"
    },
    "papermill": {
     "duration": 0.707869,
     "end_time": "2021-12-15T12:56:42.546709",
     "exception": false,
     "start_time": "2021-12-15T12:56:41.838840",
     "status": "completed"
    },
    "tags": []
   },
   "outputs": [],
   "source": [
    "train = pd.read_json(\"train.json\")\n",
    "test = pd.read_json(\"test.json\")"
   ]
  },
  {
   "cell_type": "code",
   "execution_count": 235,
   "id": "da808f0c",
   "metadata": {
    "execution": {
     "iopub.execute_input": "2021-12-15T12:56:42.579097Z",
     "iopub.status.busy": "2021-12-15T12:56:42.578318Z",
     "iopub.status.idle": "2021-12-15T12:56:42.581149Z",
     "shell.execute_reply": "2021-12-15T12:56:42.580643Z",
     "shell.execute_reply.started": "2021-12-15T12:56:15.801887Z"
    },
    "papermill": {
     "duration": 0.022908,
     "end_time": "2021-12-15T12:56:42.581311",
     "exception": false,
     "start_time": "2021-12-15T12:56:42.558403",
     "status": "completed"
    },
    "tags": []
   },
   "outputs": [],
   "source": [
    "%matplotlib inline\n",
    "import matplotlib.pyplot as plt"
   ]
  },
  {
   "cell_type": "code",
   "execution_count": 236,
   "id": "3b069c5c",
   "metadata": {
    "execution": {
     "iopub.execute_input": "2021-12-15T12:56:42.609618Z",
     "iopub.status.busy": "2021-12-15T12:56:42.608941Z",
     "iopub.status.idle": "2021-12-15T12:56:43.081775Z",
     "shell.execute_reply": "2021-12-15T12:56:43.082267Z",
     "shell.execute_reply.started": "2021-12-15T12:56:15.813288Z"
    },
    "papermill": {
     "duration": 0.48975,
     "end_time": "2021-12-15T12:56:43.082443",
     "exception": false,
     "start_time": "2021-12-15T12:56:42.592693",
     "status": "completed"
    },
    "tags": []
   },
   "outputs": [
    {
     "data": {
      "image/png": "[encoded data removed]",
      "text/plain": [
       "<Figure size 648x576 with 1 Axes>"
      ]
     },
     "metadata": {
      "needs_background": "light"
     },
     "output_type": "display_data"
    }
   ],
   "source": [
    "plt.figure(figsize=(9, 8))\n",
    "train.cuisine.value_counts().plot.bar(title='Classes Counts')\n",
    "plt.show()"
   ]
  },
  {
   "cell_type": "code",
   "execution_count": 237,
   "id": "6a93bbd0",
   "metadata": {},
   "outputs": [
    {
     "data": {
      "text/plain": [
       "65"
      ]
     },
     "execution_count": 237,
     "metadata": {},
     "output_type": "execute_result"
    }
   ],
   "source": [
    "train['ingredients'].str.len().max()"
   ]
  },
  {
   "cell_type": "code",
   "execution_count": 238,
   "id": "195a8ad4",
   "metadata": {},
   "outputs": [
    {
     "data": {
      "text/plain": [
       "1"
      ]
     },
     "execution_count": 238,
     "metadata": {},
     "output_type": "execute_result"
    }
   ],
   "source": [
    "train['ingredients'].str.len().min()"
   ]
  },
  {
   "cell_type": "code",
   "execution_count": 239,
   "id": "0d0c16ba",
   "metadata": {
    "execution": {
     "iopub.execute_input": "2021-12-15T12:56:44.957728Z",
     "iopub.status.busy": "2021-12-15T12:56:44.956971Z",
     "iopub.status.idle": "2021-12-15T12:56:45.123673Z",
     "shell.execute_reply": "2021-12-15T12:56:45.123106Z",
     "shell.execute_reply.started": "2021-12-15T12:56:16.224453Z"
    },
    "papermill": {
     "duration": 0.19554,
     "end_time": "2021-12-15T12:56:45.123828",
     "exception": false,
     "start_time": "2021-12-15T12:56:44.928288",
     "status": "completed"
    },
    "tags": []
   },
   "outputs": [],
   "source": [
    "train.ingredients=train.ingredients.apply(lambda x: ''.join([str(e).replace(' ', '') for e in x]))"
   ]
  },
  {
   "cell_type": "code",
   "execution_count": 240,
   "id": "4a121708",
   "metadata": {
    "execution": {
     "iopub.execute_input": "2021-12-15T12:56:45.155902Z",
     "iopub.status.busy": "2021-12-15T12:56:45.153463Z",
     "iopub.status.idle": "2021-12-15T12:56:45.158269Z",
     "shell.execute_reply": "2021-12-15T12:56:45.158705Z",
     "shell.execute_reply.started": "2021-12-15T12:56:16.477799Z"
    },
    "papermill": {
     "duration": 0.022611,
     "end_time": "2021-12-15T12:56:45.158865",
     "exception": false,
     "start_time": "2021-12-15T12:56:45.136254",
     "status": "completed"
    },
    "tags": []
   },
   "outputs": [
    {
     "data": {
      "text/plain": [
       "0        romainelettuceblackolivesgrapetomatoesgarlicpe...\n",
       "1        plainflourgroundpeppersalttomatoesgroundblackp...\n",
       "2        eggspeppersaltmayonaisecookingoilgreenchiliesg...\n",
       "3                               watervegetableoilwheatsalt\n",
       "4        blackpeppershallotscornflourcayennepepperonion...\n",
       "                               ...                        \n",
       "39769    lightbrownsugargranulatedsugarbutterwarmwaterl...\n",
       "39770    KRAFTZestyItalianDressingpurpleonionbroccolifl...\n",
       "39771    eggscitrusfruitraisinssourdoughstarterflourhot...\n",
       "39772    bonelesschickenskinlessthighmincedgarlicsteame...\n",
       "39773    greenchilejalapenochiliesonionsgroundblackpepp...\n",
       "Name: ingredients, Length: 39774, dtype: object"
      ]
     },
     "execution_count": 240,
     "metadata": {},
     "output_type": "execute_result"
    }
   ],
   "source": [
    "train.ingredients "
   ]
  },
  {
   "cell_type": "code",
   "execution_count": 241,
   "id": "1cd5669f",
   "metadata": {},
   "outputs": [
    {
     "data": {
      "text/plain": [
       "array([[0., 0., 0., ..., 0., 0., 0.],\n",
       "       [0., 0., 0., ..., 0., 0., 0.],\n",
       "       [0., 0., 0., ..., 0., 0., 0.],\n",
       "       ...,\n",
       "       [0., 0., 0., ..., 0., 0., 0.],\n",
       "       [0., 0., 0., ..., 0., 0., 0.],\n",
       "       [0., 0., 0., ..., 0., 0., 0.]])"
      ]
     },
     "execution_count": 241,
     "metadata": {},
     "output_type": "execute_result"
    }
   ],
   "source": [
    "cv = TfidfVectorizer(max_df=0.99, min_df=0.001, ngram_range=(1,1))\n",
    "df = cv.fit_transform(train.ingredients)\n",
    "df.toarray()"
   ]
  },
  {
   "cell_type": "code",
   "execution_count": 242,
   "id": "04bf5b97",
   "metadata": {
    "execution": {
     "iopub.execute_input": "2021-12-15T12:56:45.245153Z",
     "iopub.status.busy": "2021-12-15T12:56:45.239983Z",
     "iopub.status.idle": "2021-12-15T12:56:45.464497Z",
     "shell.execute_reply": "2021-12-15T12:56:45.465048Z",
     "shell.execute_reply.started": "2021-12-15T12:56:16.500294Z"
    },
    "papermill": {
     "duration": 0.261765,
     "end_time": "2021-12-15T12:56:45.465240",
     "exception": false,
     "start_time": "2021-12-15T12:56:45.203475",
     "status": "completed"
    },
    "tags": []
   },
   "outputs": [
    {
     "data": {
      "text/plain": [
       "array(['greek', 'southern_us', 'filipino', ..., 'irish', 'chinese',\n",
       "       'mexican'], dtype=object)"
      ]
     },
     "execution_count": 242,
     "metadata": {},
     "output_type": "execute_result"
    }
   ],
   "source": [
    "X = df\n",
    "y = train.cuisine.values\n",
    "y"
   ]
  },
  {
   "cell_type": "code",
   "execution_count": 243,
   "id": "e6d97ba6",
   "metadata": {
    "execution": {
     "iopub.execute_input": "2021-12-15T12:56:45.528048Z",
     "iopub.status.busy": "2021-12-15T12:56:45.527430Z",
     "iopub.status.idle": "2021-12-15T12:56:45.635725Z",
     "shell.execute_reply": "2021-12-15T12:56:45.634949Z",
     "shell.execute_reply.started": "2021-12-15T12:56:16.839453Z"
    },
    "papermill": {
     "duration": 0.123501,
     "end_time": "2021-12-15T12:56:45.636007",
     "exception": true,
     "start_time": "2021-12-15T12:56:45.512506",
     "status": "failed"
    },
    "tags": []
   },
   "outputs": [],
   "source": [
    "logicRegression = LogisticRegression(multi_class='ovr')"
   ]
  },
  {
   "cell_type": "code",
   "execution_count": 244,
   "id": "c32b49b8",
   "metadata": {},
   "outputs": [
    {
     "data": {
      "text/plain": [
       "LogisticRegression(multi_class='ovr')"
      ]
     },
     "execution_count": 244,
     "metadata": {},
     "output_type": "execute_result"
    }
   ],
   "source": [
    "logicRegression.fit(X, y)"
   ]
  },
  {
   "cell_type": "code",
   "execution_count": 245,
   "id": "6ecdd266",
   "metadata": {
    "execution": {
     "iopub.execute_input": "2021-12-15T12:56:17.012718Z",
     "iopub.status.busy": "2021-12-15T12:56:17.012413Z",
     "iopub.status.idle": "2021-12-15T12:56:17.020848Z",
     "shell.execute_reply": "2021-12-15T12:56:17.019721Z",
     "shell.execute_reply.started": "2021-12-15T12:56:17.012684Z"
    },
    "papermill": {
     "duration": null,
     "end_time": null,
     "exception": null,
     "start_time": null,
     "status": "pending"
    },
    "tags": []
   },
   "outputs": [
    {
     "data": {
      "text/plain": [
       "array(['italian', 'italian', 'italian', ..., 'italian', 'italian',\n",
       "       'italian'], dtype=object)"
      ]
     },
     "execution_count": 245,
     "metadata": {},
     "output_type": "execute_result"
    }
   ],
   "source": [
    "y_pred = logicRegression.predict(X)\n",
    "y_pred"
   ]
  },
  {
   "cell_type": "code",
   "execution_count": 246,
   "id": "e2dedad7",
   "metadata": {
    "execution": {
     "iopub.execute_input": "2021-12-15T12:56:17.023954Z",
     "iopub.status.busy": "2021-12-15T12:56:17.023495Z",
     "iopub.status.idle": "2021-12-15T12:56:17.037996Z",
     "shell.execute_reply": "2021-12-15T12:56:17.037210Z",
     "shell.execute_reply.started": "2021-12-15T12:56:17.023919Z"
    },
    "papermill": {
     "duration": null,
     "end_time": null,
     "exception": null,
     "start_time": null,
     "status": "pending"
    },
    "tags": []
   },
   "outputs": [
    {
     "data": {
      "text/plain": [
       "array([0.01957962, 0.01957962, 0.01957962, ..., 0.01957962, 0.01957962,\n",
       "       0.01957962])"
      ]
     },
     "execution_count": 246,
     "metadata": {},
     "output_type": "execute_result"
    }
   ],
   "source": [
    "logicRegression.predict_proba(X)[:, 1]"
   ]
  },
  {
   "cell_type": "code",
   "execution_count": 247,
   "id": "15bf6207",
   "metadata": {
    "execution": {
     "iopub.execute_input": "2021-12-15T12:56:17.047536Z",
     "iopub.status.busy": "2021-12-15T12:56:17.047297Z",
     "iopub.status.idle": "2021-12-15T12:56:17.318243Z",
     "shell.execute_reply": "2021-12-15T12:56:17.317353Z",
     "shell.execute_reply.started": "2021-12-15T12:56:17.047506Z"
    },
    "papermill": {
     "duration": null,
     "end_time": null,
     "exception": null,
     "start_time": null,
     "status": "pending"
    },
    "tags": []
   },
   "outputs": [
    {
     "data": {
      "text/plain": [
       "0.2009101423040177"
      ]
     },
     "execution_count": 247,
     "metadata": {},
     "output_type": "execute_result"
    }
   ],
   "source": [
    "metrics.accuracy_score(y, y_pred)"
   ]
  },
  {
   "cell_type": "code",
   "execution_count": 248,
   "id": "59cfcc6d",
   "metadata": {},
   "outputs": [
    {
     "data": {
      "text/plain": [
       "0.2009101423040177"
      ]
     },
     "execution_count": 248,
     "metadata": {},
     "output_type": "execute_result"
    }
   ],
   "source": [
    "metrics.f1_score(y, y_pred, average='micro')"
   ]
  },
  {
   "cell_type": "code",
   "execution_count": 249,
   "id": "a117a9d7",
   "metadata": {},
   "outputs": [
    {
     "data": {
      "text/plain": [
       "0.024600649791840328"
      ]
     },
     "execution_count": 249,
     "metadata": {},
     "output_type": "execute_result"
    }
   ],
   "source": [
    "metrics.f1_score(y, y_pred, average='macro')"
   ]
  },
  {
   "cell_type": "code",
   "execution_count": 250,
   "id": "968294dc",
   "metadata": {},
   "outputs": [
    {
     "data": {
      "text/plain": [
       "0.0793207816747758"
      ]
     },
     "execution_count": 250,
     "metadata": {},
     "output_type": "execute_result"
    }
   ],
   "source": [
    "metrics.f1_score(y, y_pred, average='weighted')"
   ]
  }
 ],
 "metadata": {
  "kernelspec": {
   "display_name": "Python 3",
   "language": "python",
   "name": "python3"
  },
  "language_info": {
   "codemirror_mode": {
    "name": "ipython",
    "version": 3
   },
   "file_extension": ".py",
   "mimetype": "text/x-python",
   "name": "python",
   "nbconvert_exporter": "python",
   "pygments_lexer": "ipython3",
   "version": "3.8.8"
  },
  "papermill": {
   "default_parameters": {},
   "duration": 13.785736,
   "end_time": "2021-12-15T12:56:46.458905",
   "environment_variables": {},
   "exception": true,
   "input_path": "__notebook__.ipynb",
   "output_path": "__notebook__.ipynb",
   "parameters": {},
   "start_time": "2021-12-15T12:56:32.673169",
   "version": "2.3.3"
  }
 },
 "nbformat": 4,
 "nbformat_minor": 5
}
